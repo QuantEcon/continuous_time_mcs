{
 "cells": [
  {
   "cell_type": "markdown",
   "id": "a57892e6",
   "metadata": {},
   "source": [
    "# Bibliography"
   ]
  },
  {
   "cell_type": "markdown",
   "id": "1a2c98f2",
   "metadata": {},
   "source": [
    "## References\n",
    "\n",
    "<a id='id5'></a>\n",
    "\\[App19\\] David Applebaum. *Semigroups of Linear Operators*. Volume 93. Cambridge University Press, 2019.\n",
    "\n",
    "<a id='id7'></a>\n",
    "\\[Bob05\\] Adam Bobrowski. *Functional analysis for probability and stochastic processes: an introduction*. Cambridge University Press, 2005.\n",
    "\n",
    "<a id='id13'></a>\n",
    "\\[How17\\] Douglas C Howard. *Elements of Stochastic Processes: A Computational Approach*. FE Press, 2017.\n",
    "\n",
    "<a id='id3'></a>\n",
    "\\[LM94\\] Andrzej Lasota and Michael C Mackey. *Chaos, fractals, and noise: stochastic aspects of dynamics*. Volume 97. Springer Science & Business Media, 1994.\n",
    "\n",
    "<a id='id9'></a>\n",
    "\\[LG16\\] Jean-François Le Gall. *Brownian motion, martingales, and stochastic calculus*. Volume 274. Springer, 2016.\n",
    "\n",
    "<a id='id8'></a>\n",
    "\\[Lig10\\] Thomas Milton Liggett. *Continuous time Markov processes: an introduction*. Volume 113. American Mathematical Soc., 2010.\n",
    "\n",
    "<a id='id12'></a>\n",
    "\\[Nor98\\] James R Norris. *Markov chains*. Number 2. Cambridge University Press, 1998.\n",
    "\n",
    "<a id='id11'></a>\n",
    "\\[Par08\\] Etienne Pardoux. *Markov processes and applications: algorithms, networks, genome and finance*. Volume 796. John Wiley & Sons, 2008.\n",
    "\n",
    "<a id='id2'></a>\n",
    "\\[PichorRTKaminska12\\] Katarzyna Pichór, Ryszard Rudnicki, and Marta Tyran-Kamińska. Stochastic semigroups and their applications to biological models. *Demonstratio Mathematica*, 45(2):463–494, 2012.\n",
    "\n",
    "<a id='id6'></a>\n",
    "\\[SK11\\] Prasanna K Sahoo and Palaniappan Kannappan. *Introduction to functional equations*. CRC Press, 2011.\n",
    "\n",
    "<a id='id4'></a>\n",
    "\\[Sta09\\] John Stachurski. *Economic dynamics: theory and computation*. MIT Press, 2009.\n",
    "\n",
    "<a id='id14'></a>\n",
    "\\[Str13\\] Daniel W Stroock. *An introduction to Markov processes*. Volume 230. Springer Science & Business Media, 2013.\n",
    "\n",
    "<a id='id10'></a>\n",
    "\\[Wal12\\] John B Walsh. *Knowing the odds: an introduction to probability*. Volume 139. American Mathematical Soc., 2012."
   ]
  }
 ],
 "metadata": {
  "date": 1736137626.8934782,
  "filename": "zreferences.md",
  "kernelspec": {
   "display_name": "Python",
   "language": "python3",
   "name": "python3"
  },
  "title": "Bibliography"
 },
 "nbformat": 4,
 "nbformat_minor": 5
}