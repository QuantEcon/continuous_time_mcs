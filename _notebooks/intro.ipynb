{
 "cells": [
  {
   "cell_type": "markdown",
   "id": "e1db5db0",
   "metadata": {},
   "source": [
    "# Continuous Time Markov Chains\n",
    "\n",
    "**Authors**: [Thomas J. Sargent](http://www.tomsargent.com/) and [John\n",
    "Stachurski](https://johnstachurski.net/)\n",
    "\n",
    "These lectures provides a short introduction to continuous time Markov chains.\n",
    "Mathematical ideas are combined with computer code to build intuition and\n",
    "bridge the gap between theory and applications.  There are many solved\n",
    "exercises.\n",
    "\n",
    "The presentation is rigorous but aims toward applications rather than\n",
    "mathematical curiosities (which are plentiful, if one starts to look).\n",
    "Applications are drawn from economics, finance and operations research.  I\n",
    "assume readers have some knowledge of [discrete time Markov\n",
    "chains](https://python.quantecon.org/finite_markov.html).  Later lectures, use\n",
    "a small amount of analysis in Banach space.\n",
    "\n",
    "Code is written in Python and accelerated using\n",
    "JIT compilation via [Numba](http://numba.pydata.org/).  QuantEcon provides an\n",
    "[introduction to these topics](https://python-programming.quantecon.org/).\n",
    "\n",
    "- [Memoryless Distributions](memoryless.ipynb)\n",
    "- [Poisson Processes](poisson.ipynb)\n",
    "- [The Markov Property](markov_prop.ipynb)\n",
    "- [The Kolmogorov Backward Equation](kolmogorov_bwd.ipynb)\n",
    "- [The Kolmogorov Forward Equation](kolmogorov_fwd.ipynb)\n",
    "- [Semigroups and Generators](generators.ipynb)\n",
    "- [UC Markov Semigroups](uc_mc_semigroups.ipynb)\n",
    "- [Stationarity and Ergodicity](ergodicity.ipynb)\n",
    "- [Bibliography](zreferences.ipynb)"
   ]
  }
 ],
 "metadata": {
  "date": 1736137626.5748773,
  "filename": "intro.md",
  "kernelspec": {
   "display_name": "Python",
   "language": "python3",
   "name": "python3"
  },
  "title": "Continuous Time Markov Chains"
 },
 "nbformat": 4,
 "nbformat_minor": 5
}