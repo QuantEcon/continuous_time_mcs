{
 "cells": [
  {
   "cell_type": "markdown",
   "metadata": {},
   "source": [
    "# Continuous Time Markov Chains\n",
    "\n",
    "**Authors**: [Thomas J. Sargent](http://www.tomsargent.com/) and [John\n",
    "Stachurski](https://johnstachurski.net/)\n",
    "\n",
    "These lectures provides a short introduction to continuous time Markov chains.\n",
    "Mathematical ideas are combined with computer code to build intuition and\n",
    "bridge the gap between theory and applications.  There are many solved\n",
    "exercises.\n",
    "\n",
    "The presentation is rigorous but aims toward applications rather than\n",
    "mathematical curiosities (which are plentiful, if one starts to look).\n",
    "Applications are drawn from economics, finance and operations research.  I\n",
    "assume readers have some knowledge of [discrete time Markov\n",
    "chains](https://python.quantecon.org/finite_markov.html).  Later lectures, use\n",
    "a small amount of analysis in Banach space.\n",
    "\n",
    "Code is written in Python and accelerated using\n",
    "JIT compilation via [Numba](http://numba.pydata.org/).  QuantEcon provides an\n",
    "[introduction to these topics](https://python-programming.quantecon.org/).\n",
    "\n",
    "- [Memoryless Distributions](https://jstac.github.io/continuous_time_mcs/memoryless.html)\n",
    "- [Poisson Processes](https://jstac.github.io/continuous_time_mcs/poisson.html)\n",
    "- [The Markov Property](https://jstac.github.io/continuous_time_mcs/markov_prop.html)\n",
    "- [The Kolmogorov Backward Equation](https://jstac.github.io/continuous_time_mcs/kolmogorov_bwd.html)\n",
    "- [The Kolmogorov Forward Equation](https://jstac.github.io/continuous_time_mcs/kolmogorov_fwd.html)\n",
    "- [Semigroups and Generators](https://jstac.github.io/continuous_time_mcs/generators.html)\n",
    "- [UC Markov Semigroups](https://jstac.github.io/continuous_time_mcs/uc_mc_semigroups.html)\n",
    "- [Stationarity and Ergodicity](https://jstac.github.io/continuous_time_mcs/ergodicity.html)\n",
    "- [Bibliography](https://jstac.github.io/continuous_time_mcs/zreferences.html)"
   ]
  }
 ],
 "metadata": {
  "date": 1634697819.143389,
  "filename": "intro.md",
  "kernelspec": null,
  "title": "Continuous Time Markov Chains"
 },
 "nbformat": 4,
 "nbformat_minor": 4
}